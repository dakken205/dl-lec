{
 "cells": [
  {
   "attachments": {},
   "cell_type": "markdown",
   "metadata": {},
   "source": [
    "# Python入門\n",
    "- pythonインタプリタ\n",
    "- スクリプトの実行\n",
    "- 実効履歴の初期化\n",
    "- pythonの基本的な文法\n",
    "- pythonスクリプトファイルとライブラリ\n",
    "- numpy\n",
    "- matplotlib\n"
   ]
  },
  {
   "cell_type": "markdown",
   "metadata": {},
   "source": [
    "## pythonインタプリタ"
   ]
  },
  {
   "attachments": {},
   "cell_type": "markdown",
   "metadata": {},
   "source": [
    "ユーザは、コードを1行1行ごとに書いていくが、インタプリタ型の言語はそれを1行1行ずつ機械語に変換して処理を進める.代表的な処理方法としてはもう一つ、コンパイル型の言語があるが、これは、書かれたコード全てを一括で機械語に翻訳して、実行している."
   ]
  },
  {
   "attachments": {},
   "cell_type": "markdown",
   "metadata": {},
   "source": [
    "## スクリプトの実行"
   ]
  },
  {
   "cell_type": "code",
   "execution_count": null,
   "metadata": {},
   "outputs": [],
   "source": [
    "print(1)"
   ]
  },
  {
   "cell_type": "code",
   "execution_count": null,
   "metadata": {},
   "outputs": [],
   "source": [
    "print('10')\n",
    "print([1,2,3])"
   ]
  },
  {
   "cell_type": "code",
   "execution_count": null,
   "metadata": {},
   "outputs": [],
   "source": [
    "a = 10"
   ]
  },
  {
   "cell_type": "code",
   "execution_count": null,
   "metadata": {},
   "outputs": [],
   "source": [
    "print(a)"
   ]
  },
  {
   "attachments": {},
   "cell_type": "markdown",
   "metadata": {},
   "source": [
    "## 実効履歴の初期化"
   ]
  },
  {
   "cell_type": "code",
   "execution_count": null,
   "metadata": {},
   "outputs": [],
   "source": [
    "print(a)"
   ]
  },
  {
   "attachments": {},
   "cell_type": "markdown",
   "metadata": {},
   "source": [
    "## 基本文法\n",
    "### 算術計算"
   ]
  },
  {
   "cell_type": "code",
   "execution_count": null,
   "metadata": {},
   "outputs": [],
   "source": [
    "1 - 2"
   ]
  },
  {
   "cell_type": "code",
   "execution_count": null,
   "metadata": {},
   "outputs": [],
   "source": [
    "4 * 5"
   ]
  },
  {
   "cell_type": "code",
   "execution_count": null,
   "metadata": {},
   "outputs": [],
   "source": [
    "7 / 5"
   ]
  },
  {
   "cell_type": "code",
   "execution_count": null,
   "metadata": {},
   "outputs": [],
   "source": [
    "3 ** 2"
   ]
  },
  {
   "attachments": {},
   "cell_type": "markdown",
   "metadata": {},
   "source": [
    "**問題：4 × 5 + 2 - 10 ÷ 2**"
   ]
  },
  {
   "cell_type": "code",
   "execution_count": null,
   "metadata": {},
   "outputs": [],
   "source": []
  },
  {
   "attachments": {},
   "cell_type": "markdown",
   "metadata": {},
   "source": [
    "### 変数"
   ]
  },
  {
   "cell_type": "code",
   "execution_count": null,
   "metadata": {},
   "outputs": [],
   "source": [
    "x = 10\n",
    "print(x)  # print(~)は標準出力をする為の関数"
   ]
  },
  {
   "cell_type": "code",
   "execution_count": null,
   "metadata": {},
   "outputs": [],
   "source": [
    "x = 100\n",
    "print(x)"
   ]
  },
  {
   "cell_type": "code",
   "execution_count": null,
   "metadata": {},
   "outputs": [],
   "source": [
    "y = 3.14 # 円周率\n",
    "x * y"
   ]
  },
  {
   "cell_type": "code",
   "execution_count": null,
   "metadata": {},
   "outputs": [],
   "source": [
    "print(type(x * y))"
   ]
  },
  {
   "attachments": {},
   "cell_type": "markdown",
   "metadata": {},
   "source": [
    "**問題：変数xとyの値を確認してみよう**"
   ]
  },
  {
   "cell_type": "code",
   "execution_count": null,
   "metadata": {},
   "outputs": [],
   "source": []
  },
  {
   "attachments": {},
   "cell_type": "markdown",
   "metadata": {},
   "source": [
    "### データ型\n",
    "float: 浮動小数（小数）   \n",
    "int: 整数　   \n",
    "str: 文字（正式には文字列）　   \n",
    "set: 集合　   \n",
    "list: 配列（順番のある集合？）　   \n",
    "dict: キーとバリューの組み合わせの集合　   \n",
    "bool: 真偽値\n",
    "・・・"
   ]
  },
  {
   "cell_type": "code",
   "execution_count": null,
   "metadata": {},
   "outputs": [],
   "source": [
    "a = 10\n",
    "print(a, type(a))"
   ]
  },
  {
   "cell_type": "code",
   "execution_count": null,
   "metadata": {},
   "outputs": [],
   "source": [
    "a = str(a)\n",
    "print(type(a))"
   ]
  },
  {
   "attachments": {},
   "cell_type": "markdown",
   "metadata": {},
   "source": [
    "**問題：変数bの値のデータ型を調べて、文字列(string)型、整数(int)型にしてみよう**"
   ]
  },
  {
   "cell_type": "code",
   "execution_count": null,
   "metadata": {},
   "outputs": [],
   "source": [
    "b = 1.23\n"
   ]
  },
  {
   "attachments": {},
   "cell_type": "markdown",
   "metadata": {},
   "source": [
    "### リスト"
   ]
  },
  {
   "cell_type": "code",
   "execution_count": null,
   "metadata": {},
   "outputs": [],
   "source": [
    "a = [1, 2, 3, 4, 5]\n",
    "print(a)"
   ]
  },
  {
   "cell_type": "code",
   "execution_count": null,
   "metadata": {},
   "outputs": [],
   "source": [
    "len(a)"
   ]
  },
  {
   "cell_type": "code",
   "execution_count": null,
   "metadata": {},
   "outputs": [],
   "source": [
    "a[0]"
   ]
  },
  {
   "cell_type": "code",
   "execution_count": null,
   "metadata": {},
   "outputs": [],
   "source": [
    "a[3]"
   ]
  },
  {
   "cell_type": "code",
   "execution_count": null,
   "metadata": {},
   "outputs": [],
   "source": [
    "a[0:3]"
   ]
  },
  {
   "attachments": {},
   "cell_type": "markdown",
   "metadata": {},
   "source": [
    "**問題：1~3までの数値を要素とするような配列（リスト）を作成して、インデックス番号が2の値を出力してみよう**"
   ]
  },
  {
   "cell_type": "code",
   "execution_count": null,
   "metadata": {},
   "outputs": [],
   "source": []
  },
  {
   "attachments": {},
   "cell_type": "markdown",
   "metadata": {},
   "source": [
    "### ディクショナリ(辞書型)\n",
    "**キーとバリューで一つのセット**   \n",
    "{key : vlaue, ~~~}"
   ]
  },
  {
   "cell_type": "code",
   "execution_count": null,
   "metadata": {},
   "outputs": [],
   "source": [
    "me = { 'name' : 'akiyuki' }\n",
    "you = { 'name' : 'kevin' }\n",
    "\n",
    "print(me['name'])\n",
    "print(you['name'])"
   ]
  },
  {
   "cell_type": "code",
   "execution_count": null,
   "metadata": {},
   "outputs": [],
   "source": [
    "me = { 'name' : 'akiyuki', 'height' : 176, 'weight' : 58 }\n",
    "you = { 'name' : 'kevin', 'height' : 180, 'weight' : 70 }\n",
    "\n",
    "print(me['name'], me['height'], me['weight'])\n",
    "print(you['name'], you['height'], you['weight'])"
   ]
  },
  {
   "attachments": {},
   "cell_type": "markdown",
   "metadata": {},
   "source": [
    "### Boolean(真偽値)\n",
    "TrueかFalseかの二つの状態しかないデータ型"
   ]
  },
  {
   "cell_type": "code",
   "execution_count": null,
   "metadata": {},
   "outputs": [],
   "source": [
    "hungry = False\n",
    "sleepy = True\n",
    "\n",
    "print(hungry)"
   ]
  },
  {
   "cell_type": "code",
   "execution_count": null,
   "metadata": {},
   "outputs": [],
   "source": [
    "print( not hungry )"
   ]
  },
  {
   "cell_type": "code",
   "execution_count": null,
   "metadata": {},
   "outputs": [],
   "source": [
    "print(hungry and sleepy)\n",
    "print(hungry or sleepy)"
   ]
  },
  {
   "attachments": {},
   "cell_type": "markdown",
   "metadata": {},
   "source": [
    "他のデータ型から、boolに変換すると、真偽値にはTrueかFalseしか存在しないのでどちらかに変換される   \n",
    "基本、空の値や、0等がFalseになり、それ以外はTrueに変換されるようになっている"
   ]
  },
  {
   "cell_type": "code",
   "execution_count": null,
   "metadata": {},
   "outputs": [],
   "source": [
    "print(bool(''), bool('0'))\n",
    "print(bool(-1), bool(0))"
   ]
  },
  {
   "attachments": {},
   "cell_type": "markdown",
   "metadata": {},
   "source": [
    "**問題：bool型の変数を2つ以上設定して、and or を組み合わせて出力を確認してみてください**"
   ]
  },
  {
   "cell_type": "code",
   "execution_count": null,
   "metadata": {},
   "outputs": [],
   "source": []
  },
  {
   "attachments": {},
   "cell_type": "markdown",
   "metadata": {},
   "source": [
    "### if文\n",
    "```python   \n",
    "if (条件式):   \n",
    "    真の時に実行されるコード   \n",
    "else:   \n",
    "    偽の時に実行されるコード   \n",
    "```"
   ]
  },
  {
   "cell_type": "code",
   "execution_count": null,
   "metadata": {},
   "outputs": [],
   "source": [
    "if hungry:  # 変数hugryは真か偽か\n",
    "    print(\"I'm hungry.\")\n",
    "else:\n",
    "    print(\"I'm not hungry.\")"
   ]
  },
  {
   "attachments": {},
   "cell_type": "markdown",
   "metadata": {},
   "source": [
    "```python\n",
    "if (条件１):\n",
    "    条件１が真の時実行されるコード\n",
    "elif (条件２)：\n",
    "    条件１が偽で、条件２が真の時実行されるコード\n",
    "else:\n",
    "    条件１も条件２もぎである時に実行されるコード\n",
    "```"
   ]
  },
  {
   "cell_type": "code",
   "execution_count": null,
   "metadata": {},
   "outputs": [],
   "source": [
    "if hungry:\n",
    "    print(\"I'm hungry.\")\n",
    "elif sleepy:\n",
    "    print(\"I'm not hungry, but sleepy.\")\n",
    "else:\n",
    "    print(\"I'm neither hungry nor sleepy.\")"
   ]
  },
  {
   "attachments": {},
   "cell_type": "markdown",
   "metadata": {},
   "source": [
    "**問題：お腹が空いているかつ、眠いときに、`お腹が空いているし、眠い`と出力し、そうでないときには`ん～～～`と出力してください**   \n",
    "ヒント：`elif`を使わずに実装します"
   ]
  },
  {
   "cell_type": "code",
   "execution_count": null,
   "metadata": {},
   "outputs": [],
   "source": []
  },
  {
   "attachments": {},
   "cell_type": "markdown",
   "metadata": {},
   "source": [
    "### for文\n",
    "繰り返すような処理（ループ処理）に使える   \n",
    "```python\n",
    "for 変数 in (イテレーター):\n",
    "    各段階で行いたい処理\n",
    "```\n",
    "**イテレーターとは、複数の要素が並んだ配列のような物**\n"
   ]
  },
  {
   "cell_type": "code",
   "execution_count": null,
   "metadata": {},
   "outputs": [],
   "source": [
    "for a in [1, 2, 3]:\n",
    "    print(a)"
   ]
  },
  {
   "cell_type": "code",
   "execution_count": null,
   "metadata": {},
   "outputs": [],
   "source": [
    "a_list = [1, 2, 3]\n",
    "print(a_list[0])\n",
    "print(a_list[1])\n",
    "print(a_list[2])"
   ]
  },
  {
   "attachments": {},
   "cell_type": "markdown",
   "metadata": {},
   "source": [
    "**問題：リスト型の変数を定義して、各要素を出力するfor文を書きなさい**"
   ]
  },
  {
   "cell_type": "code",
   "execution_count": null,
   "metadata": {},
   "outputs": [],
   "source": []
  },
  {
   "attachments": {},
   "cell_type": "markdown",
   "metadata": {},
   "source": [
    "### 関数\n",
    "よく使う処理を毎回書くのは非常に手間ですよね。<br>そういう時には、まとまったコードを`関数`として定義して、スクリプト内で好きに呼び出せるようにします\n",
    "```python\n",
    "def 関数名(引数):\n",
    "    ここに処理を記入\n",
    "```\n"
   ]
  },
  {
   "attachments": {},
   "cell_type": "markdown",
   "metadata": {},
   "source": [
    "例えば、挨拶の文章って「こんにちは, ○○さん！」と言いますよね。   \n",
    "10人に対して別々のタイミングで挨拶をするのに、10人分の`'こんにちは,○○さん！'`と入力するのは手間ですよね。   \n",
    "そういったある程度決まった処理は,事前に用意して呼び出すだけにしておきたい訳です。そこで出てくるのがこの関数です。"
   ]
  },
  {
   "cell_type": "code",
   "execution_count": null,
   "metadata": {},
   "outputs": [],
   "source": [
    "def printHello(name):\n",
    "    print('こんにちは,', name, 'さん！')"
   ]
  },
  {
   "cell_type": "code",
   "execution_count": null,
   "metadata": {},
   "outputs": [],
   "source": [
    "printHello('あきゆき')"
   ]
  },
  {
   "attachments": {},
   "cell_type": "markdown",
   "metadata": {},
   "source": [
    "**問題：**"
   ]
  },
  {
   "cell_type": "code",
   "execution_count": null,
   "metadata": {},
   "outputs": [],
   "source": []
  },
  {
   "attachments": {},
   "cell_type": "markdown",
   "metadata": {},
   "source": [
    "#### 返り値のある関数\n",
    "```python\n",
    "def 関数名(引数):\n",
    "    ここに処理を記入\n",
    "    return 返り値\n",
    "```\n",
    "例えば、sinの値を計算する関数を定義したとします。   \n",
    "その状態で、"
   ]
  },
  {
   "cell_type": "code",
   "execution_count": null,
   "metadata": {},
   "outputs": [],
   "source": [
    "# 返り値の無い関数\n",
    "a = print('test')"
   ]
  },
  {
   "cell_type": "code",
   "execution_count": null,
   "metadata": {},
   "outputs": [],
   "source": [
    "print(a)"
   ]
  },
  {
   "cell_type": "code",
   "execution_count": null,
   "metadata": {},
   "outputs": [],
   "source": [
    "b = printHello('akiyuki')"
   ]
  },
  {
   "cell_type": "code",
   "execution_count": null,
   "metadata": {},
   "outputs": [],
   "source": [
    "print(b)"
   ]
  },
  {
   "cell_type": "code",
   "execution_count": null,
   "metadata": {},
   "outputs": [],
   "source": [
    "def getHello(name):\n",
    "    helloText = 'こんにちは,' + name + 'さん！'\n",
    "    return helloText"
   ]
  },
  {
   "cell_type": "code",
   "execution_count": null,
   "metadata": {},
   "outputs": [],
   "source": [
    "result = getHello('あきゆき')\n"
   ]
  },
  {
   "cell_type": "code",
   "execution_count": null,
   "metadata": {},
   "outputs": [],
   "source": [
    "print(result)"
   ]
  },
  {
   "attachments": {},
   "cell_type": "markdown",
   "metadata": {},
   "source": [
    "#### プログラムの関数を使うと数学の合成関数が出来ます"
   ]
  },
  {
   "cell_type": "code",
   "execution_count": null,
   "metadata": {},
   "outputs": [],
   "source": [
    "def f(x):\n",
    "    return 1 + 2*x + 3*x**2\n",
    "\n",
    "def g(x):\n",
    "    return x + x**3"
   ]
  },
  {
   "cell_type": "code",
   "execution_count": null,
   "metadata": {},
   "outputs": [],
   "source": [
    "y = f(2)\n",
    "g(y)"
   ]
  },
  {
   "attachments": {},
   "cell_type": "markdown",
   "metadata": {},
   "source": [
    "**$f(x) = 2 + 10x + x^2$**<br>\n",
    "**$g(x) = x + 2x^3$**<br>\n",
    "**この二つを関数で定義し、合成関数ｇ・ｆ（ｘ）の値を出力してください**"
   ]
  },
  {
   "cell_type": "code",
   "execution_count": null,
   "metadata": {},
   "outputs": [],
   "source": []
  },
  {
   "attachments": {},
   "cell_type": "markdown",
   "metadata": {},
   "source": [
    "## pythonスクリプトファイル"
   ]
  },
  {
   "attachments": {},
   "cell_type": "markdown",
   "metadata": {},
   "source": [
    "pythonスクリプトファイルとは、このファイルとは異なり、ファイル単位で処理を実装する形式のpythonファイルです。   \n",
    "~.py(つまり、拡張子がpyである)ファイルがこれに該当します。   \n",
    "このファイルに書かれた関数や、ここでは触れていないクラスと言われるものは、ファイル間でのやりとりが可能になります。\n",
    "\n",
    "明示的に、外部から関数を読み込まなくとも、pythonに最初から組み込まれている関数(printなど)もあります\n",
    "外部からpythonに直接読み込む物もあります"
   ]
  },
  {
   "attachments": {},
   "cell_type": "markdown",
   "metadata": {},
   "source": [
    "### numpyライブラリとmatplotlibライブラリ\n",
    "|ライブラリ名|出来る事|\n",
    "|-|-|\n",
    "|numpy|高速な数値計算ができるライブラリ|\n",
    "||様々な数値計算用の関数が用意されています|\n",
    "|matplotlib|グラフ描画用のライブラリ|\n"
   ]
  },
  {
   "cell_type": "code",
   "execution_count": null,
   "metadata": {},
   "outputs": [],
   "source": [
    "# この二つは、基本、外部から読み込む必要がありますが、google colabでは事前に読み込まれている\n",
    "import numpy as np\n",
    "import matplotlib.pyplot as plt"
   ]
  },
  {
   "cell_type": "code",
   "execution_count": null,
   "metadata": {},
   "outputs": [],
   "source": [
    "np.linspace(0, 0.9, 10)"
   ]
  },
  {
   "cell_type": "code",
   "execution_count": null,
   "metadata": {},
   "outputs": [],
   "source": [
    "x = np.linspace(0, 0.9, 10)\n",
    "plt.plot(x, f(x))  # 他にも、描画形式に応じて、様々な関数があります\n",
    "plt.show()"
   ]
  },
  {
   "cell_type": "code",
   "execution_count": null,
   "metadata": {},
   "outputs": [],
   "source": []
  }
 ],
 "metadata": {
  "kernelspec": {
   "display_name": "Python 3",
   "language": "python",
   "name": "python3"
  },
  "language_info": {
   "codemirror_mode": {
    "name": "ipython",
    "version": 3
   },
   "file_extension": ".py",
   "mimetype": "text/x-python",
   "name": "python",
   "nbconvert_exporter": "python",
   "pygments_lexer": "ipython3",
   "version": "3.9.13"
  },
  "orig_nbformat": 4
 },
 "nbformat": 4,
 "nbformat_minor": 2
}

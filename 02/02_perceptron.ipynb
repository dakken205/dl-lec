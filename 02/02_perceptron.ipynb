{
 "cells": [
  {
   "attachments": {},
   "cell_type": "markdown",
   "metadata": {},
   "source": [
    "# パーセプトロン\n",
    "根幹的な概念としては、複数の入力を得て、それに特定の処理を行い、1つの出力を確定するような仕組みの事\n",
    "<br>\n",
    "<p>パーセプトロンの出力信号は０と１の2値の値</p>\n",
    "<p>今回は０を信号を流す、１を信号を流さないに対応させて話すことにします</p>\n",
    "<div style='display: flex;'>\n",
    "    <div  style='width: 400px;'>\n",
    "        <div>\n",
    "            ↓神経細胞の図\n",
    "        </div>\n",
    "        <div>\n",
    "            <img src='https://stonewashersjournal.com/wp-content/uploads/2015/03/15028-4-1024x551.png' />\n",
    "        </div>\n",
    "    </div>\n",
    "    <div style='width: 500px;'>\n",
    "        <div>\n",
    "            ↓パーセプトロンの図\n",
    "        </div>\n",
    "        <div>\n",
    "            <img src='https://city3939.com/wp-content/uploads/2018/10/%e3%83%91%e3%83%bc%e3%82%bb%e3%83%97%e3%83%88%e3%83%ad%e3%83%b30.png' />\n",
    "        </div>\n",
    "    </div>\n",
    "</div>\n",
    "    <font size=2>神経細胞の図：https://stonewashersjournal.com/wp-content/uploads/2015/03/15028-4-1024x551.png</font><br>\n",
    "    <font size=2>パーセプトロンの図：https://city3939.com/wp-content/uploads/2018/10/%e3%83%91%e3%83%bc%e3%82%bb%e3%83%97%e3%83%88%e3%83%ad%e3%83%b30.png</font>"
   ]
  },
  {
   "attachments": {},
   "cell_type": "markdown",
   "metadata": {},
   "source": [
    "パーセプトロンの図では、$x_1, x_2$が入力信号、yが出力信号、$w_1, w_2$が重みを表します<br>\n",
    "このとき、$w_1, w_2$によって重み付けされた値がyに入力されます$(w_1x_1, w_2x_2)$<br>\n",
    "パーセプトロンでは、この入力がある値を超えた際に、出力信号として１を超えなければ0を出力する<br>\n",
    "この時の、0と1の出力を制御する値を`閾値`という\n",
    "$$ y = \n",
    "    \\begin{cases}\n",
    "        {0 ~ (w_1x_1 + w_2x_2 \\le \\theta)}\\\\\n",
    "        {1 ~ (w_1x_1 + w_2x_2 > \\theta)}\n",
    "    \\end{cases}\n",
    "$$"
   ]
  },
  {
   "attachments": {},
   "cell_type": "markdown",
   "metadata": {},
   "source": [
    "## 論理ゲート\n",
    "### ANDゲート\n",
    "|$x_1$|$x_2$|$y$|\n",
    "|-|-|-|\n",
    "|0|0|0|\n",
    "|1|0|0|\n",
    "|0|1|0|\n",
    "|1|1|1|\n",
    "\n",
    "**テーブルの見方：$x_1$列, $x_2$列がそれぞれの入力に対応し、$y$列がはその出力に対応する**<br>\n",
    "上の条件を満たすように、パーセプトロンを組もうと思うと$(w_1, w_2, \\theta)$をどのように設定すればよいだろうか<br>\n",
    "<!-- 一番簡単な例：$(w_1, w_2, \\theta) = (1, 1, 1)$ -->"
   ]
  },
  {
   "cell_type": "code",
   "execution_count": null,
   "metadata": {},
   "outputs": [],
   "source": [
    "def AND(x1, x2):\n",
    "    # 個々の値を調整しよう\n",
    "    w1, w2, theta = 1, 1, 1\n",
    "    tmp = x1*w1 + x2*w2\n",
    "    if tmp > theta:\n",
    "        return 1\n",
    "    else:\n",
    "        return 0"
   ]
  },
  {
   "cell_type": "code",
   "execution_count": null,
   "metadata": {},
   "outputs": [],
   "source": [
    "# 実際に試してみよう\n",
    "AND(0, 0)"
   ]
  },
  {
   "attachments": {},
   "cell_type": "markdown",
   "metadata": {},
   "source": [
    "**以下の二つのゲートについても考えてみよう**\n",
    "### NANDゲート\n",
    "|$x_1$|$x_2$|$y$|\n",
    "|-|-|-|\n",
    "|0|0|1|\n",
    "|1|0|1|\n",
    "|0|1|1|\n",
    "|1|1|0|\n",
    "\n",
    "<!-- 一番簡単な例：$(w_1, w_2, \\theta) = (-1, -1, -2)$ -->\n",
    "\n",
    "### ORゲート\n",
    "|$x_1$|$x_2$|$y$|\n",
    "|-|-|-|\n",
    "|0|0|0|\n",
    "|1|0|1|\n",
    "|0|1|1|\n",
    "|1|1|1|\n",
    "\n",
    "<!-- 一番簡単な例：$(w_1, w_2, \\theta) = (1, 1, 0)$ -->"
   ]
  },
  {
   "cell_type": "code",
   "execution_count": null,
   "metadata": {},
   "outputs": [],
   "source": [
    "def NAND(x1, x2):\n",
    "    # 個々の値を調整しよう\n",
    "    w1, w2, theta = -1, -1, -2\n",
    "    tmp = x1*w1 + x2*w2\n",
    "    if tmp > theta:\n",
    "        return 1\n",
    "    else:\n",
    "        return 0\n",
    "\n",
    "def OR(x1, x2):\n",
    "    # 個々の値を調整しよう\n",
    "    w1, w2, theta = 1, 1, 0\n",
    "    tmp = x1*w1 + x2*w2\n",
    "    if tmp > theta:\n",
    "        return 1\n",
    "    else:\n",
    "        return 0"
   ]
  },
  {
   "cell_type": "code",
   "execution_count": null,
   "metadata": {},
   "outputs": [],
   "source": [
    "NAND(0, 1)"
   ]
  },
  {
   "cell_type": "code",
   "execution_count": null,
   "metadata": {},
   "outputs": [],
   "source": [
    "OR(0, 1)"
   ]
  },
  {
   "attachments": {},
   "cell_type": "markdown",
   "metadata": {},
   "source": [
    "## パーセプトロンの限界\n",
    "このパーセプトロンによって、AND,NAND,ORの3つのゲートが実装できたが、このパーセプトロンの限界について考えてみる   \n",
    "先ほどのパーセプトロンにおける出力が0となるのか、1となるのかの境界（決定境界）は以下のようになる\n",
    "$$x_1w_1 + x_2w_2 = \\theta$$\n",
    "これを式変形すると\n",
    "$$ x_2 = \\frac{-x_1w_1 + \\theta}{w_2}$$\n",
    "慣れ親しんだ形式でみるのであれば\n",
    "$$ y = \\frac{-xw_1 + \\theta}{w_2}; w1, w2は定数$$"
   ]
  },
  {
   "cell_type": "code",
   "execution_count": null,
   "metadata": {},
   "outputs": [],
   "source": [
    "import matplotlib.pyplot as plt\n",
    "import japanize_matplotlib\n",
    "import numpy as np\n",
    "\n",
    "# 関数の用意\n",
    "f = lambda x: ((-x)*1 + 1) / 1\n",
    "\n",
    "x1 = np.linspace(0.0, 1, 10)\n",
    "x2 = f(x1)\n",
    "\n",
    "plt.figure(figsize=(5, 5))\n",
    "plt.plot(x1, x2, color='g')\n",
    "plt.xlabel('x1')\n",
    "plt.ylabel('x2')\n",
    "plt.xlim(0, 1)\n",
    "plt.ylim(0, 1)\n",
    "plt.show()"
   ]
  },
  {
   "attachments": {},
   "cell_type": "markdown",
   "metadata": {},
   "source": [
    "### XORゲート\n",
    "|$x_1$|$x_2$|$y$|\n",
    "|-|-|-|\n",
    "|0|0|0|\n",
    "|1|0|1|\n",
    "|0|1|1|\n",
    "|1|1|0|\n",
    "\n",
    "このゲートは単体のパーセプトロンで表せるだろうか\n"
   ]
  },
  {
   "cell_type": "code",
   "execution_count": null,
   "metadata": {},
   "outputs": [],
   "source": [
    "elemtnts_0 = [\n",
    "    [0.75, 0.75],\n",
    "    [0.25, 0.25],\n",
    "]\n",
    "elemtnts_1 = [\n",
    "    [0.75, 0.25],\n",
    "    [0.25, 0.75],\n",
    "]\n",
    "\n",
    "plt.figure(figsize=(5, 5))\n",
    "g = lambda x: ((-x)*1 + 0.7) / 1\n",
    "plt.plot(x1, g(x1), color='g', alpha=0.5, label='ANDの決定境界')\n",
    "plt.scatter(list(zip(*elemtnts_0))[0], list(zip(*elemtnts_0))[1], color='b', label='0')\n",
    "plt.scatter(list(zip(*elemtnts_1))[0], list(zip(*elemtnts_1))[1], color='r', label='1')\n",
    "plt.xlabel('x1')\n",
    "plt.ylabel('x2')\n",
    "plt.xlim(0, 1)\n",
    "plt.ylim(0, 1)\n",
    "plt.legend()\n",
    "plt.show()"
   ]
  },
  {
   "attachments": {},
   "cell_type": "markdown",
   "metadata": {},
   "source": [
    "見て貰えば分かるように、これは単体のパーセプトロンで解決できないタスクになってくる   "
   ]
  },
  {
   "attachments": {},
   "cell_type": "markdown",
   "metadata": {},
   "source": [
    "# 多層パーセプトロン\n",
    "<p>\n",
    "単体のパーセプトロンでは作成できないことが分かったが、実はこれは、複数のパーセプトロンを組み合わせることで、解決できることが分かっている\n",
    "</p>\n",
    "<img src=\"https://cdn1.byjus.com/wp-content/uploads/2020/06/xor-equivalent-circuit.png\" />\n",
    "<p>\n",
    "上の画像は,これまで構築したゲートを利用して、XORゲートの出力を再現している。ここでも分かるように、パーセプトロンを複数組み合わせることで非線形の分離問題を解くことが可能になるのである。\n",
    "</p>\n",
    "\n",
    "|$x_1$|$x_2$|$s_1$：OR|$s_2$：NAND|$y$：AND(OR, NAND)|\n",
    "|-|-|-|-|-|\n",
    "|0|0|0|1|0|\n",
    "|1|0|1|1|1|\n",
    "|0|1|1|1|1|\n",
    "|1|1|1|0|0|"
   ]
  },
  {
   "cell_type": "code",
   "execution_count": null,
   "metadata": {},
   "outputs": [],
   "source": [
    "def XOR(x1, x2):\n",
    "    s1 = OR(x1, x2)\n",
    "    s2 = NAND(x1, x2)\n",
    "    y = AND(s1, s2)\n",
    "    return y"
   ]
  },
  {
   "cell_type": "code",
   "execution_count": null,
   "metadata": {},
   "outputs": [],
   "source": [
    "XOR(1, 0)"
   ]
  },
  {
   "attachments": {},
   "cell_type": "markdown",
   "metadata": {},
   "source": [
    "<p>上記の構造をパーセプトロンの形式で見てみる</p>\n",
    "<img src=\"https://unisia-se.com/static/macuos/img/b_id39_3.png\" style=\"width: 350px;\" />\n",
    "<p>とまあ、このように、パーセプトロン（今回だと論理ゲート）を複数重ねることによってより複雑なものが表現出来ました。実際、NANDゲートの組み合わせだけで、コンピュータも作れちゃうくらいらしいです</p>"
   ]
  },
  {
   "cell_type": "code",
   "execution_count": null,
   "metadata": {},
   "outputs": [],
   "source": []
  }
 ],
 "metadata": {
  "kernelspec": {
   "display_name": "Python 3",
   "language": "python",
   "name": "python3"
  },
  "language_info": {
   "codemirror_mode": {
    "name": "ipython",
    "version": 3
   },
   "file_extension": ".py",
   "mimetype": "text/x-python",
   "name": "python",
   "nbconvert_exporter": "python",
   "pygments_lexer": "ipython3",
   "version": "3.9.13"
  },
  "orig_nbformat": 4
 },
 "nbformat": 4,
 "nbformat_minor": 2
}
